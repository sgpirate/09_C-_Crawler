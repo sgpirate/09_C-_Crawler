{
  "nbformat": 4,
  "nbformat_minor": 0,
  "metadata": {
    "colab": {
      "provenance": [],
      "collapsed_sections": [
        "bHsVmB6p-6Q4",
        "ifyUi0qn_MWF",
        "6RHYoCOF33Kr"
      ],
      "include_colab_link": true
    },
    "kernelspec": {
      "name": "python3",
      "display_name": "Python 3"
    },
    "language_info": {
      "name": "python"
    }
  },
  "cells": [
    {
      "cell_type": "markdown",
      "metadata": {
        "id": "view-in-github",
        "colab_type": "text"
      },
      "source": [
        "<a href=\"https://colab.research.google.com/github/sgpirate/09_C-_Crawler/blob/master/Leet%20Code%20Tryout.ipynb\" target=\"_parent\"><img src=\"https://colab.research.google.com/assets/colab-badge.svg\" alt=\"Open In Colab\"/></a>"
      ]
    },
    {
      "cell_type": "markdown",
      "source": [
        "\n",
        "Rules\n",
        "* Please do not use GPT, however you may refer to the internet\n",
        "* The test iirc was around 1hr 30min for both questions\n",
        "\n"
      ],
      "metadata": {
        "id": "bxU-hcS7haHW"
      }
    },
    {
      "cell_type": "markdown",
      "source": [
        "# Question 1 (Easy)"
      ],
      "metadata": {
        "id": "ynE49OjAhTMM"
      }
    },
    {
      "cell_type": "markdown",
      "source": [
        "Given a list of words and list of queries, return the sorted list the anagrams\\ per query by alphabetical order.\n",
        "Example:\n",
        "\n",
        "words=[“cat”, “atc”, “act”, “sleep”, “eleps”, “track”, “tries”]\n",
        "queries=[“tac”, “leeps”, “crakt”]\n",
        "\n",
        "Output:\n",
        "[[“atc”, “cat, “cta”], [“eleps”, “sleep”], [“track”]]"
      ],
      "metadata": {
        "id": "1WM4cR0IhQ75"
      }
    },
    {
      "cell_type": "markdown",
      "source": [
        "   Words:\n",
        "\n",
        "> ['silent', 'listen', 'enlist', 'google', 'gogole', 'triangle', 'integral', 'altering', 'relating', 'alerting', 'cat', 'dog', 'bat', 'rat', 'top', 'pot', 'tap', 'pat', 'map', 'pam']\n",
        "\n",
        "   Queries:\n",
        "\n",
        "> ['goolge', 'ilents', 'liganetr', 'itgelanr', 'apt', 'tinsel']\n",
        "\n",
        "   Expected:\n",
        "> [['gogole', 'google'],\n",
        "['enlist', 'listen', 'silent'],\n",
        "['alerting', 'altering', 'integral', 'relating', 'triangle'],\n",
        "['alerting', 'altering', 'integral', 'relating', 'triangle'],\n",
        "['pat', 'tap'],\n",
        "['enlist', 'listen', 'silent']]"
      ],
      "metadata": {
        "id": "KwADFYcEeabe"
      }
    },
    {
      "cell_type": "code",
      "source": [
        "from collections import defaultdict\n",
        "\n",
        "def anagrams(words, queries):\n",
        "    anagramList = defaultdict(list)\n",
        "\n",
        "    # Loop through each word in the list and group anagrams\n",
        "    for wordsItem in words:                                                      # Loop through the items in 'Words' array\n",
        "        key = \"\".join(sorted(wordsItem))                                         # Create key for anagram group\n",
        "        if wordsItem not in anagramList[key]:                                    # Avoid duplicates\n",
        "            anagramList[key].append(wordsItem)\n",
        "    print(\"AnagramList: \" + str(anagramList))\n",
        "\n",
        "    result = []\n",
        "    # For each query, find the matching anagrams from the grouped words\n",
        "    for queryItem in queries:                                                    # Loop through the items in 'Queries' array\n",
        "        matched_anagrams = []\n",
        "        query_key = \"\".join(sorted(queryItem))                                   # Sort the query string\n",
        "\n",
        "        if query_key in anagramList:\n",
        "            matched_anagrams = sorted(anagramList[query_key])                    # Sort the anagram group for the query\n",
        "            print(\"Matched: \" + queryItem + \" -> \" + str(matched_anagrams))\n",
        "        result.append(matched_anagrams)                                          # add to final result arraylist\n",
        "\n",
        "    return result\n",
        "\n",
        "# Example usage\n",
        "words = ['silent', 'listen', 'enlist', 'google', 'gogole', 'triangle', 'integral', 'altering', 'relating', 'alerting', 'cat', 'dog', 'bat', 'rat', 'top', 'pot', 'tap', 'pat', 'map', 'pam']\n",
        "queries = ['goolge', 'ilents', 'liganetr', 'itgelanr', 'apt', 'tinsel']\n",
        "print(anagrams(words, queries))\n"
      ],
      "metadata": {
        "id": "P9SptvrIhRi3",
        "colab": {
          "base_uri": "https://localhost:8080/"
        },
        "collapsed": true,
        "outputId": "dfc5336b-3d03-469d-d5a8-352d2f1a78cb"
      },
      "execution_count": 179,
      "outputs": [
        {
          "output_type": "stream",
          "name": "stdout",
          "text": [
            "AnagramList: defaultdict(<class 'list'>, {'eilnst': ['silent', 'listen', 'enlist'], 'eggloo': ['google', 'gogole'], 'aegilnrt': ['triangle', 'integral', 'altering', 'relating', 'alerting'], 'act': ['cat'], 'dgo': ['dog'], 'abt': ['bat'], 'art': ['rat'], 'opt': ['top', 'pot'], 'apt': ['tap', 'pat'], 'amp': ['map', 'pam']})\n",
            "Matched: goolge -> ['gogole', 'google']\n",
            "Matched: ilents -> ['enlist', 'listen', 'silent']\n",
            "Matched: liganetr -> ['alerting', 'altering', 'integral', 'relating', 'triangle']\n",
            "Matched: itgelanr -> ['alerting', 'altering', 'integral', 'relating', 'triangle']\n",
            "Matched: apt -> ['pat', 'tap']\n",
            "Matched: tinsel -> ['enlist', 'listen', 'silent']\n",
            "[['gogole', 'google'], ['enlist', 'listen', 'silent'], ['alerting', 'altering', 'integral', 'relating', 'triangle'], ['alerting', 'altering', 'integral', 'relating', 'triangle'], ['pat', 'tap'], ['enlist', 'listen', 'silent']]\n"
          ]
        }
      ]
    },
    {
      "cell_type": "markdown",
      "source": [
        "## After completing the code run the following cell to check the test cases"
      ],
      "metadata": {
        "id": "bHsVmB6p-6Q4"
      }
    },
    {
      "cell_type": "code",
      "source": [
        "# After completing the code, run this cell\n",
        "\n",
        "def run_tests(anagrams_function):\n",
        "    # Define test cases\n",
        "    test_cases = [\n",
        "        {\n",
        "            \"words\": ['conversation', 'conservation', 'nightmare', 'earthmen', 'schoolmaster', 'theclassroom', 'astronomer', 'moonstarer', 'debitcard', 'badcredit', 'silent', 'listen', 'enlist', 'google', 'gogole', 'triangle', 'integral', 'altering', 'relating', 'alerting'],\n",
        "            \"queries\": ['tnrehema', 'raniosetvonc', 'adcedbtri', 'rnaemroost', 'enilgtar', 'mragtnhie'],\n",
        "            \"expected\": [['earthmen'], ['conservation', 'conversation'], ['badcredit', 'debitcard'], ['astronomer', 'moonstarer'], ['alerting', 'altering', 'integral', 'relating', 'triangle'], ['nightmare']]\n",
        "        },\n",
        "        {\n",
        "            \"words\": ['silent', 'listen', 'enlist', 'google', 'gogole', 'triangle', 'integral', 'altering', 'relating', 'alerting', 'cat', 'dog', 'bat', 'rat', 'top', 'pot', 'tap', 'pat', 'map', 'pam'],\n",
        "            \"queries\": ['goolge', 'ilents', 'liganetr', 'itgelanr', 'apt', 'tinsel'],\n",
        "            \"expected\": [['gogole', 'google'], ['enlist', 'listen', 'silent'], ['alerting', 'altering', 'integral', 'relating', 'triangle'], ['alerting', 'altering', 'integral', 'relating', 'triangle'], ['pat', 'tap'], ['enlist', 'listen', 'silent']]\n",
        "        },\n",
        "    ]\n",
        "\n",
        "    # Scoring variables\n",
        "    score = 0\n",
        "    total = len(test_cases)\n",
        "\n",
        "    print(\"\\nRunning Test Cases...\\n\")\n",
        "\n",
        "    # Iterate over each test case\n",
        "    for idx, case in enumerate(test_cases, start=1):\n",
        "        words = case[\"words\"]\n",
        "        queries = case[\"queries\"]\n",
        "        expected = case[\"expected\"]\n",
        "\n",
        "        # Run candidate's function\n",
        "        try:\n",
        "            result = anagrams_function(words, queries)\n",
        "        except Exception as e:\n",
        "            print(f\"❌ Test Case {idx}: Exception occurred - {e}\")\n",
        "            continue\n",
        "\n",
        "        # Compare outputs\n",
        "        if result == expected:\n",
        "            print(f\"✅ Test Case {idx}: Passed\")\n",
        "            score += 1\n",
        "        else:\n",
        "            print(f\"❌ Test Case {idx}: Failed\")\n",
        "            print(f\"   Words: {words}\")\n",
        "            print(f\"   Queries: {queries}\")\n",
        "            print(f\"   Expected: {expected}\")\n",
        "            print(f\"   Got: {result}\")\n",
        "\n",
        "    # Final Score Summary\n",
        "    print(\"\\nTest Results Summary:\")\n",
        "    print(f\"Score: {score} / {total}\")\n",
        "    if score == total:\n",
        "        print(\"🎉 Excellent! All test cases passed.\")\n",
        "    elif score >= total * 0.7:\n",
        "        print(\"👍 Good job! You passed most test cases.\")\n",
        "    else:\n",
        "        print(\"👀 Needs improvement. Try debugging the failing cases.\")\n",
        "\n",
        "run_tests(anagrams)"
      ],
      "metadata": {
        "colab": {
          "base_uri": "https://localhost:8080/"
        },
        "id": "SF7bBRXFiD0p",
        "outputId": "892a5784-64b5-414a-c3f9-bab9c037aa1a"
      },
      "execution_count": 219,
      "outputs": [
        {
          "output_type": "stream",
          "name": "stdout",
          "text": [
            "\n",
            "Running Test Cases...\n",
            "\n",
            "AnagramList: defaultdict(<class 'list'>, {'aceinnoorstv': ['conversation', 'conservation'], 'aeghimnrt': ['nightmare'], 'aeehmnrt': ['earthmen'], 'acehlmoorsst': ['schoolmaster', 'theclassroom'], 'aemnoorrst': ['astronomer', 'moonstarer'], 'abcddeirt': ['debitcard', 'badcredit'], 'eilnst': ['silent', 'listen', 'enlist'], 'eggloo': ['google', 'gogole'], 'aegilnrt': ['triangle', 'integral', 'altering', 'relating', 'alerting']})\n",
            "Matched: tnrehema -> ['earthmen']\n",
            "Matched: raniosetvonc -> ['conservation', 'conversation']\n",
            "Matched: adcedbtri -> ['badcredit', 'debitcard']\n",
            "Matched: rnaemroost -> ['astronomer', 'moonstarer']\n",
            "Matched: enilgtar -> ['alerting', 'altering', 'integral', 'relating', 'triangle']\n",
            "Matched: mragtnhie -> ['nightmare']\n",
            "✅ Test Case 1: Passed\n",
            "AnagramList: defaultdict(<class 'list'>, {'eilnst': ['silent', 'listen', 'enlist'], 'eggloo': ['google', 'gogole'], 'aegilnrt': ['triangle', 'integral', 'altering', 'relating', 'alerting'], 'act': ['cat'], 'dgo': ['dog'], 'abt': ['bat'], 'art': ['rat'], 'opt': ['top', 'pot'], 'apt': ['tap', 'pat'], 'amp': ['map', 'pam']})\n",
            "Matched: goolge -> ['gogole', 'google']\n",
            "Matched: ilents -> ['enlist', 'listen', 'silent']\n",
            "Matched: liganetr -> ['alerting', 'altering', 'integral', 'relating', 'triangle']\n",
            "Matched: itgelanr -> ['alerting', 'altering', 'integral', 'relating', 'triangle']\n",
            "Matched: apt -> ['pat', 'tap']\n",
            "Matched: tinsel -> ['enlist', 'listen', 'silent']\n",
            "✅ Test Case 2: Passed\n",
            "\n",
            "Test Results Summary:\n",
            "Score: 2 / 2\n",
            "🎉 Excellent! All test cases passed.\n"
          ]
        }
      ]
    },
    {
      "cell_type": "markdown",
      "source": [
        "# Question 2"
      ],
      "metadata": {
        "id": "3dwND6uO4E9j"
      }
    },
    {
      "cell_type": "markdown",
      "source": [
        " Parallel Task Processing Optimization\n",
        "\n",
        "## You are given a list of tasks, each with:\n",
        "\n",
        "- Memory Requirement (task_memory): how much memory the task uses.\n",
        "\n",
        "- Task Type (task_type): an identifier for the task type.\n",
        "\n",
        "\n",
        "You are also given:\n",
        "\n",
        "- Max Memory (max_memory): the total memory available.\n",
        "\n",
        "- Parallelism Constraint: at most two tasks can be processed in parallel if they are of the same type.\n",
        "\n",
        "- The combined memory does not exceed max_memory.\n",
        "\n",
        "- ⏱ Each task takes one unit of time to process.\n",
        "\n",
        "## Your goal:\n",
        "Determine the minimum time units required to process all tasks under these constraints.\n",
        "____________\n",
        "\n",
        "SAMPLE\n",
        "\n",
        "1.1. Task memory [1, 2, 3, 4]\n",
        "\n",
        "1.2. Task Type [1, 1, 2, 3]\n",
        "\n",
        "1.3. Max memory 4\n",
        "\n",
        "Process:\n",
        "Type 1 tasks (index 0 and 1) can run in parallel: 1 + 2 <= 4. ✅\n",
        "Task at index 2 (type 2) runs alone.\n",
        "Task at index 3 (type 3) runs alone.\n",
        "\n",
        "1 unit -> task 0 + task 1  \n",
        "1 unit -> task 2  \n",
        "1 unit -> task 3  \n",
        "Total = 3 units of time\n",
        "\n",
        "✅ Expected Output:\n",
        "3\n"
      ],
      "metadata": {
        "id": "TQLXlah54bkr"
      }
    },
    {
      "cell_type": "code",
      "source": [
        "from collections import defaultdict\n",
        "\n",
        "def candidate_min_processing_time(task_memory, task_type, max_memory) -> int:\n",
        "    # Group tasks by type\n",
        "    tasks_by_type = defaultdict(list)\n",
        "    for memory, ttype in zip(task_memory, task_type):                                   # Group the Task type to a memory. i.e. Task type 2 appears twice -> 2: [1, 2] or Task type 1 appears once -> 1: [3]\n",
        "        tasks_by_type[ttype].append(memory)\n",
        "    print(tasks_by_type)\n",
        "\n",
        "    time_units = 0\n",
        "\n",
        "    # Process each task group by type\n",
        "    for task_list in tasks_by_type.values():\n",
        "      task_list.sort()\n",
        "      i = 0\n",
        "      while i < len(task_list):\n",
        "          if i + 1 < len(task_list) and task_list[i] + task_list[i + 1] <= max_memory:  # Check if we can pair task i and task i+1\n",
        "            time_units += 1                                                           # We can process these two tasks in parallel\n",
        "            i += 2                                                                    # Skip the next task as it's processed with the current one\n",
        "          else:                                                                         # Only process the current task alone\n",
        "            time_units += 1\n",
        "            i += 1\n",
        "    return time_units\n",
        "\n",
        "# Sample Input\n",
        "task_memory = [1, 2, 3, 4, 5, 6]\n",
        "task_type = [1, 2, 2, 3, 4]\n",
        "max_memory = 4\n",
        "\n",
        "# Output\n",
        "result = candidate_min_processing_time(task_memory, task_type, max_memory)\n",
        "print(result)"
      ],
      "metadata": {
        "colab": {
          "base_uri": "https://localhost:8080/"
        },
        "id": "Svzd4GLS7EFU",
        "outputId": "6d25a7b8-3819-4f7b-b041-f12514983d9d"
      },
      "execution_count": 223,
      "outputs": [
        {
          "output_type": "stream",
          "name": "stdout",
          "text": [
            "defaultdict(<class 'list'>, {1: [1], 2: [2, 3], 3: [4], 4: [5]})\n",
            "5\n"
          ]
        }
      ]
    },
    {
      "cell_type": "code",
      "source": [
        "# 🔧 Example of candidate solution (use incorrect/correct versions for testing)\n",
        "def candidate_min_processing_time(task_memory, task_type, max_memory):\n",
        "    # Replace this logic with the user's implementation\n",
        "    # Here's a correct implementation for demonstration\n",
        "    type_to_tasks = defaultdict(list)\n",
        "    for mem, typ in zip(task_memory, task_type):\n",
        "        type_to_tasks[typ].append(mem)\n",
        "\n",
        "    total_time = 0\n",
        "\n",
        "    for tasks in type_to_tasks.values():\n",
        "        tasks.sort()\n",
        "\n",
        "        i, j = 0, len(tasks) - 1\n",
        "        while i <= j:\n",
        "            if i == j:\n",
        "                total_time += 1\n",
        "                break\n",
        "            if tasks[i] + tasks[j] <= max_memory:\n",
        "                i += 1\n",
        "            j -= 1\n",
        "            total_time += 1\n",
        "\n",
        "    return total_time\n",
        "\n",
        "# Sample Input\n",
        "task_memory = [1, 2, 3, 4, 5, 6]\n",
        "task_type = [1, 2, 2, 3, 4]\n",
        "max_memory = 4\n",
        "\n",
        "# Output\n",
        "result = candidate_min_processing_time(task_memory, task_type, max_memory)\n",
        "print(result)"
      ],
      "metadata": {
        "colab": {
          "base_uri": "https://localhost:8080/"
        },
        "id": "tl_Cenj__v7w",
        "outputId": "32a516b8-085d-43cb-f972-904ecf35b683"
      },
      "execution_count": 225,
      "outputs": [
        {
          "output_type": "stream",
          "name": "stdout",
          "text": [
            "5\n"
          ]
        }
      ]
    },
    {
      "cell_type": "markdown",
      "source": [
        "## After completing the code run the following cell to check the test cases"
      ],
      "metadata": {
        "id": "ifyUi0qn_MWF"
      }
    },
    {
      "cell_type": "code",
      "source": [
        "import random\n",
        "from collections import defaultdict\n",
        "\n",
        "# Ground truth function (correct answer)\n",
        "def compute_min_processing_time(task_memory, task_type, max_memory):\n",
        "    type_to_tasks = defaultdict(list)\n",
        "    for mem, typ in zip(task_memory, task_type):\n",
        "        type_to_tasks[typ].append(mem)\n",
        "\n",
        "    total_time = 0\n",
        "\n",
        "    for tasks in type_to_tasks.values():\n",
        "        tasks.sort()\n",
        "\n",
        "        i, j = 0, len(tasks) - 1\n",
        "        while i <= j:\n",
        "            if i == j:\n",
        "                total_time += 1\n",
        "                break\n",
        "            if tasks[i] + tasks[j] <= max_memory:\n",
        "                i += 1\n",
        "            j -= 1\n",
        "            total_time += 1\n",
        "\n",
        "    return total_time\n",
        "\n",
        "# Test case generation with answers\n",
        "def generate_task_test_case_with_answer(num_tasks=10, max_task_type=5, max_task_memory=10, max_memory_limit=15):\n",
        "    task_memory = [random.randint(1, max_task_memory) for _ in range(num_tasks)]\n",
        "    task_type = [random.randint(1, max_task_type) for _ in range(num_tasks)]\n",
        "    max_memory = random.randint(max(max_task_memory, 5), max_memory_limit)\n",
        "\n",
        "    answer = compute_min_processing_time(task_memory, task_type, max_memory)\n",
        "\n",
        "    return {\n",
        "        \"task_memory\": task_memory,\n",
        "        \"task_type\": task_type,\n",
        "        \"max_memory\": max_memory,\n",
        "        \"expected_time\": answer\n",
        "    }\n",
        "\n",
        "def generate_multiple_task_test_cases_with_answers(num_cases=10):\n",
        "    cases = []\n",
        "    for i in range(num_cases):\n",
        "        case = generate_task_test_case_with_answer(\n",
        "            num_tasks=random.randint(5, 20),\n",
        "            max_task_type=10,\n",
        "            max_task_memory=10,\n",
        "            max_memory_limit=20\n",
        "        )\n",
        "        cases.append(case)\n",
        "    return cases\n",
        "\n",
        "# ✅ Dynamic Test Runner\n",
        "def run_dynamic_task_tests(candidate_function, num_cases=10, verbose=True):\n",
        "    random.seed(42)  # reproducibility\n",
        "    test_cases = generate_multiple_task_test_cases_with_answers(num_cases)\n",
        "\n",
        "    score = 0\n",
        "    total = len(test_cases)\n",
        "\n",
        "    print(\"\\nRunning Dynamic Task Tests...\\n\")\n",
        "\n",
        "    for idx, case in enumerate(test_cases, start=1):\n",
        "        task_memory = case[\"task_memory\"]\n",
        "        task_type = case[\"task_type\"]\n",
        "        max_memory = case[\"max_memory\"]\n",
        "        expected_time = case[\"expected_time\"]\n",
        "\n",
        "        try:\n",
        "            result = candidate_function(task_memory, task_type, max_memory)\n",
        "        except Exception as e:\n",
        "            print(f\"❌ Test Case {idx}: Exception occurred - {e}\")\n",
        "            continue\n",
        "\n",
        "        if result == expected_time:\n",
        "            if verbose:\n",
        "                print(f\"✅ Test Case {idx}: Passed\")\n",
        "            score += 1\n",
        "        else:\n",
        "            print(f\"❌ Test Case {idx}: Failed\")\n",
        "            print(f\"   Task Memory:  {task_memory}\")\n",
        "            print(f\"   Task Type:    {task_type}\")\n",
        "            print(f\"   Max Memory:   {max_memory}\")\n",
        "            print(f\"   Expected Time:{expected_time}\")\n",
        "            print(f\"   Got:          {result}\")\n",
        "\n",
        "    print(\"\\nTest Results Summary:\")\n",
        "    print(f\"Score: {score} / {total}\")\n",
        "\n",
        "    if score == total:\n",
        "        print(\"🎉 Excellent! All test cases passed.\")\n",
        "    elif score >= total * 0.7:\n",
        "        print(\"👍 Good job! You passed most test cases.\")\n",
        "    else:\n",
        "        print(\"👀 Needs improvement. Try debugging the failing cases.\")\n",
        "\n",
        "# 🔧 Example of candidate solution (use incorrect/correct versions for testing)\n",
        "def candidate_min_processing_time(task_memory, task_type, max_memory):\n",
        "    # Replace this logic with the user's implementation\n",
        "    # Here's a correct implementation for demonstration\n",
        "    type_to_tasks = defaultdict(list)\n",
        "    for mem, typ in zip(task_memory, task_type):\n",
        "        type_to_tasks[typ].append(mem)\n",
        "\n",
        "    total_time = 0\n",
        "\n",
        "    for tasks in type_to_tasks.values():\n",
        "        tasks.sort()\n",
        "\n",
        "        i, j = 0, len(tasks) - 1\n",
        "        while i <= j:\n",
        "            if i == j:\n",
        "                total_time += 1\n",
        "                break\n",
        "            if tasks[i] + tasks[j] <= max_memory:\n",
        "                i += 1\n",
        "            j -= 1\n",
        "            total_time += 1\n",
        "\n",
        "    return total_time\n",
        "\n",
        "# ✅ Run the test runner\n",
        "run_dynamic_task_tests(candidate_min_processing_time, num_cases=100)\n"
      ],
      "metadata": {
        "colab": {
          "base_uri": "https://localhost:8080/"
        },
        "id": "aIVc5n8I7jPX",
        "outputId": "764eddc5-0301-4a02-cfb4-d7012a92f9b6"
      },
      "execution_count": 218,
      "outputs": [
        {
          "output_type": "stream",
          "name": "stdout",
          "text": [
            "\n",
            "Running Dynamic Task Tests...\n",
            "\n",
            "✅ Test Case 1: Passed\n",
            "✅ Test Case 2: Passed\n",
            "✅ Test Case 3: Passed\n",
            "✅ Test Case 4: Passed\n",
            "✅ Test Case 5: Passed\n",
            "✅ Test Case 6: Passed\n",
            "✅ Test Case 7: Passed\n",
            "✅ Test Case 8: Passed\n",
            "✅ Test Case 9: Passed\n",
            "✅ Test Case 10: Passed\n",
            "✅ Test Case 11: Passed\n",
            "✅ Test Case 12: Passed\n",
            "✅ Test Case 13: Passed\n",
            "✅ Test Case 14: Passed\n",
            "✅ Test Case 15: Passed\n",
            "✅ Test Case 16: Passed\n",
            "✅ Test Case 17: Passed\n",
            "✅ Test Case 18: Passed\n",
            "✅ Test Case 19: Passed\n",
            "✅ Test Case 20: Passed\n",
            "✅ Test Case 21: Passed\n",
            "✅ Test Case 22: Passed\n",
            "✅ Test Case 23: Passed\n",
            "✅ Test Case 24: Passed\n",
            "✅ Test Case 25: Passed\n",
            "✅ Test Case 26: Passed\n",
            "✅ Test Case 27: Passed\n",
            "✅ Test Case 28: Passed\n",
            "✅ Test Case 29: Passed\n",
            "✅ Test Case 30: Passed\n",
            "✅ Test Case 31: Passed\n",
            "✅ Test Case 32: Passed\n",
            "✅ Test Case 33: Passed\n",
            "✅ Test Case 34: Passed\n",
            "✅ Test Case 35: Passed\n",
            "✅ Test Case 36: Passed\n",
            "✅ Test Case 37: Passed\n",
            "✅ Test Case 38: Passed\n",
            "✅ Test Case 39: Passed\n",
            "✅ Test Case 40: Passed\n",
            "✅ Test Case 41: Passed\n",
            "✅ Test Case 42: Passed\n",
            "✅ Test Case 43: Passed\n",
            "✅ Test Case 44: Passed\n",
            "✅ Test Case 45: Passed\n",
            "✅ Test Case 46: Passed\n",
            "✅ Test Case 47: Passed\n",
            "✅ Test Case 48: Passed\n",
            "✅ Test Case 49: Passed\n",
            "✅ Test Case 50: Passed\n",
            "✅ Test Case 51: Passed\n",
            "✅ Test Case 52: Passed\n",
            "✅ Test Case 53: Passed\n",
            "✅ Test Case 54: Passed\n",
            "✅ Test Case 55: Passed\n",
            "✅ Test Case 56: Passed\n",
            "✅ Test Case 57: Passed\n",
            "✅ Test Case 58: Passed\n",
            "✅ Test Case 59: Passed\n",
            "✅ Test Case 60: Passed\n",
            "✅ Test Case 61: Passed\n",
            "✅ Test Case 62: Passed\n",
            "✅ Test Case 63: Passed\n",
            "✅ Test Case 64: Passed\n",
            "✅ Test Case 65: Passed\n",
            "✅ Test Case 66: Passed\n",
            "✅ Test Case 67: Passed\n",
            "✅ Test Case 68: Passed\n",
            "✅ Test Case 69: Passed\n",
            "✅ Test Case 70: Passed\n",
            "✅ Test Case 71: Passed\n",
            "✅ Test Case 72: Passed\n",
            "✅ Test Case 73: Passed\n",
            "✅ Test Case 74: Passed\n",
            "✅ Test Case 75: Passed\n",
            "✅ Test Case 76: Passed\n",
            "✅ Test Case 77: Passed\n",
            "✅ Test Case 78: Passed\n",
            "✅ Test Case 79: Passed\n",
            "✅ Test Case 80: Passed\n",
            "✅ Test Case 81: Passed\n",
            "✅ Test Case 82: Passed\n",
            "✅ Test Case 83: Passed\n",
            "✅ Test Case 84: Passed\n",
            "✅ Test Case 85: Passed\n",
            "✅ Test Case 86: Passed\n",
            "✅ Test Case 87: Passed\n",
            "✅ Test Case 88: Passed\n",
            "✅ Test Case 89: Passed\n",
            "✅ Test Case 90: Passed\n",
            "✅ Test Case 91: Passed\n",
            "✅ Test Case 92: Passed\n",
            "✅ Test Case 93: Passed\n",
            "✅ Test Case 94: Passed\n",
            "✅ Test Case 95: Passed\n",
            "✅ Test Case 96: Passed\n",
            "✅ Test Case 97: Passed\n",
            "✅ Test Case 98: Passed\n",
            "✅ Test Case 99: Passed\n",
            "✅ Test Case 100: Passed\n",
            "\n",
            "Test Results Summary:\n",
            "Score: 100 / 100\n",
            "🎉 Excellent! All test cases passed.\n"
          ]
        }
      ]
    },
    {
      "cell_type": "markdown",
      "source": [
        "# Generating Test cases (DONT NEED TO RUN)"
      ],
      "metadata": {
        "id": "6RHYoCOF33Kr"
      }
    },
    {
      "cell_type": "code",
      "source": [
        "import random\n",
        "from collections import defaultdict\n",
        "\n",
        "# Provided words\n",
        "words1 = [\"silent\", \"listen\", \"enlist\", \"google\", \"gogole\", \"triangle\", \"integral\", \"altering\", \"relating\", \"alerting\"]\n",
        "\n",
        "words2 = [\"cat\", \"dog\", \"bat\", \"rat\", \"top\", \"pot\", \"tap\", \"pat\", \"map\", \"pam\"]\n",
        "\n",
        "\n",
        "# Combine both word lists\n",
        "all_words = words1 + words2\n",
        "\n",
        "# Helper to jumble a word (not returning the same word)\n",
        "def jumble_word_unique(word):\n",
        "    if len(set(word)) == 1:\n",
        "        return word\n",
        "    jumbled = word\n",
        "    while jumbled == word:\n",
        "        letters = list(word)\n",
        "        random.shuffle(letters)\n",
        "        jumbled = ''.join(letters)\n",
        "    return jumbled\n",
        "\n",
        "# Build anagram groups for expected outputs\n",
        "def compute_expected(words, queries):\n",
        "    anagram_dict = defaultdict(list)\n",
        "    for word in words:\n",
        "        key = ''.join(sorted(word))\n",
        "        anagram_dict[key].append(word)\n",
        "\n",
        "    expected = []\n",
        "    for query in queries:\n",
        "        key = ''.join(sorted(query))\n",
        "        matches = sorted(anagram_dict.get(key, []))\n",
        "        expected.append(matches)\n",
        "    return expected\n",
        "\n",
        "# Select queries (pick some words to jumble)\n",
        "def generate_queries_from_words(words, num_queries=5):\n",
        "    selected_words = random.sample(words, num_queries)\n",
        "    queries = [jumble_word_unique(word) for word in selected_words]\n",
        "    return queries\n",
        "\n",
        "# Generate one test case from provided words\n",
        "def generate_custom_test_case(words, num_queries=5):\n",
        "    queries = generate_queries_from_words(words, num_queries)\n",
        "    expected = compute_expected(words, queries)\n",
        "\n",
        "    print(\"Words List:\")\n",
        "    print(words)\n",
        "    print(\"\\nQueries:\")\n",
        "    print(queries)\n",
        "    print(\"\\nExpected Output (sorted anagrams per query):\")\n",
        "    print(expected)\n",
        "    print(\"\\n\" + \"-\"*50)\n",
        "    return {\n",
        "        \"words\": words,\n",
        "        \"queries\": queries,\n",
        "        \"expected\": expected\n",
        "    }\n",
        "\n",
        "# Example usage\n",
        "random.seed(42)  # for reproducibility\n",
        "custom_test_case = generate_custom_test_case(all_words, num_queries=6)\n"
      ],
      "metadata": {
        "colab": {
          "base_uri": "https://localhost:8080/"
        },
        "id": "Y-3-if0hiHv0",
        "outputId": "0cdde856-06b6-4885-803d-853195c61070"
      },
      "execution_count": 220,
      "outputs": [
        {
          "output_type": "stream",
          "name": "stdout",
          "text": [
            "Words List:\n",
            "['silent', 'listen', 'enlist', 'google', 'gogole', 'triangle', 'integral', 'altering', 'relating', 'alerting', 'cat', 'dog', 'bat', 'rat', 'top', 'pot', 'tap', 'pat', 'map', 'pam']\n",
            "\n",
            "Queries:\n",
            "['goolge', 'ilents', 'liganetr', 'itgelanr', 'apt', 'tinsel']\n",
            "\n",
            "Expected Output (sorted anagrams per query):\n",
            "[['gogole', 'google'], ['enlist', 'listen', 'silent'], ['alerting', 'altering', 'integral', 'relating', 'triangle'], ['alerting', 'altering', 'integral', 'relating', 'triangle'], ['pat', 'tap'], ['enlist', 'listen', 'silent']]\n",
            "\n",
            "--------------------------------------------------\n"
          ]
        }
      ]
    },
    {
      "cell_type": "code",
      "source": [],
      "metadata": {
        "id": "Y86pX44J4C0-"
      },
      "execution_count": null,
      "outputs": []
    }
  ]
}